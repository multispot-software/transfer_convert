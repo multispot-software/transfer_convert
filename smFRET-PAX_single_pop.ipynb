{
 "cells": [
  {
   "cell_type": "code",
   "execution_count": null,
   "metadata": {},
   "outputs": [],
   "source": [
    "fname = '/mnt/archive/Antonio/data/manta/smdata/2017-07-12/05_-8TA_+6NTD_run_off_inplace.hdf5'\n",
    "plot_timetraces = True\n",
    "and_gate_size_sel_kws = dict(th1=20, gamma=0.5, add_aex=True)\n",
    "and_gate_min_rate_cps = 30e3"
   ]
  },
  {
   "cell_type": "code",
   "execution_count": null,
   "metadata": {},
   "outputs": [],
   "source": [
    "from pathlib import Path"
   ]
  },
  {
   "cell_type": "code",
   "execution_count": null,
   "metadata": {},
   "outputs": [],
   "source": [
    "fname = Path(fname)"
   ]
  },
  {
   "cell_type": "code",
   "execution_count": null,
   "metadata": {},
   "outputs": [],
   "source": [
    "num_fields = 3\n",
    "max_len = 26\n",
    "mlabel = '_'.join([fname.parts[-2]] + fname.stem.split('_')[:num_fields])[:max_len]\n",
    "mlabel"
   ]
  },
  {
   "cell_type": "code",
   "execution_count": null,
   "metadata": {},
   "outputs": [],
   "source": [
    "assert fname.is_file(), 'File not found.'"
   ]
  },
  {
   "cell_type": "markdown",
   "metadata": {},
   "source": [
    "# Imports"
   ]
  },
  {
   "cell_type": "code",
   "execution_count": null,
   "metadata": {},
   "outputs": [],
   "source": [
    "import os\n",
    "from pathlib import Path\n",
    "import numpy as np\n",
    "from IPython.display import display, HTML\n",
    "import pandas as pd\n",
    "import matplotlib as mpl\n",
    "mpl.rcParams['font.sans-serif'].insert(0, 'Arial')\n",
    "%matplotlib inline\n",
    "import matplotlib.pyplot as plt\n",
    "from heatmap import heatmap48, spotsh, spotsv\n",
    "import pybroom as br"
   ]
  },
  {
   "cell_type": "code",
   "execution_count": null,
   "metadata": {},
   "outputs": [],
   "source": [
    "plt.rcParams['font.size'] = 14"
   ]
  },
  {
   "cell_type": "code",
   "execution_count": null,
   "metadata": {},
   "outputs": [],
   "source": [
    "%config InlineBackend.figure_format = 'retina'"
   ]
  },
  {
   "cell_type": "code",
   "execution_count": null,
   "metadata": {},
   "outputs": [],
   "source": [
    "from fretbursts import *"
   ]
  },
  {
   "cell_type": "code",
   "execution_count": null,
   "metadata": {},
   "outputs": [],
   "source": [
    "sns = init_notebook(apionly=True)"
   ]
  },
  {
   "cell_type": "code",
   "execution_count": null,
   "metadata": {},
   "outputs": [],
   "source": [
    "pd.options.display.max_columns = 48\n",
    "pd.options.display.max_rows = 48\n",
    "\n",
    "def make_df_bursts(list_of_columns):\n",
    "    ncols = 48\n",
    "    assert len(list_of_columns) == ncols\n",
    "    nrows = max(len(x) for x in list_of_columns)\n",
    "    columns = np.arange(ncols)\n",
    "    df = pd.DataFrame(columns=columns, index=np.arange(nrows), dtype=float)\n",
    "    df.columns.name = 'spot'\n",
    "    for col, col_data in zip(columns, list_of_columns):\n",
    "        df.iloc[:len(col_data), col] = col_data\n",
    "    return df\n",
    "\n",
    "def make_df_spots(list_of_tuples=None):\n",
    "    nrows = 48\n",
    "    df = pd.DataFrame(index=np.arange(nrows))\n",
    "    if list_of_tuples is None:\n",
    "        list_of_tuples = []\n",
    "    for col, col_data in list_of_tuples:\n",
    "        df[col] = col_data\n",
    "    return df"
   ]
  },
  {
   "cell_type": "code",
   "execution_count": null,
   "metadata": {},
   "outputs": [],
   "source": [
    "def cal_phrate(d, stream, phrates=None, recompute=False):\n",
    "    Path('results').mkdir(exist_ok=True)\n",
    "    if phrates is None:\n",
    "        phrates = {}\n",
    "    phrates_fname = Path('results/%s_phrate_%s.csv' % (mlabel, stream))\n",
    "    phrates_fnameB = Path('results/%s_phrate_%sB.csv' % (mlabel, stream))\n",
    "    if phrates_fname.is_file() and not recompute:\n",
    "        phrates[str(stream)] = pd.read_csv(phrates_fname, index_col=0)\n",
    "        phrates[str(stream)].index.name = 'spot'\n",
    "        phr = pd.read_csv(phrates_fnameB, index_col=0)\n",
    "        phr.columns = [int(c) for c in phr.columns]\n",
    "        phr.columns.name = 'spot'\n",
    "        phrates[str(stream)+'B'] = phr\n",
    "    else:\n",
    "        try:\n",
    "            d.calc_max_rate(m=10, ph_sel=stream, compact=True)\n",
    "        except ValueError:\n",
    "            d.calc_max_rate(m=10, ph_sel=stream, compact=False)\n",
    "        phrates[str(stream)+'B'] = make_df_bursts(d.max_rate)\n",
    "        phrates[str(stream)] = (make_df_spots()\n",
    "                        .assign(**{'num_bursts': d.num_bursts})\n",
    "                        .assign(**{'num_nans': [np.isnan(x).sum() for x in d.max_rate]})\n",
    "                        .assign(**{'num_valid': lambda x: x.num_bursts - x.num_nans})\n",
    "                        .assign(**{'valid_fraction': lambda x: 100 * x.num_valid / x.num_bursts})\n",
    "                      )\n",
    "        phrates[str(stream)].to_csv(phrates_fname)\n",
    "        phrates[str(stream)+'B'].to_csv(phrates_fnameB)\n",
    "\n",
    "    print('   Valid fraction (mean of all ch): %.1f %%' %\n",
    "          phrates[str(stream)].valid_fraction.mean())\n",
    "    return phrates"
   ]
  },
  {
   "cell_type": "code",
   "execution_count": null,
   "metadata": {},
   "outputs": [],
   "source": [
    "def info_html(d):\n",
    "    Dex, Aex = d.setup['excitation_input_powers']*1e3\n",
    "    s = \"\"\"\n",
    "    <h3>File: &nbsp; &nbsp; &nbsp; {fname}</h3>\n",
    "    <blockquote><p class=\"lead\">{descr}</p></blockquote>\n",
    "    <ul>\n",
    "    <li><span style='display: inline-block; width: 150px;'>Acquisition duration:</span> {time:.1f} s </li>\n",
    "    <li><span style='display: inline-block; width: 150px;'>Laser power:</span>  <b>{Dex:.0f}mW</b> @ 532nm &nbsp;&nbsp;&nbsp;  \n",
    "                                                                                <b>{Aex:.0f}mW</b> @ 628nm </li>\n",
    "    <li><span style='display: inline-block; width: 150px;'>ALEX period [offset]: </span> {period} ({period_us:.1f} μs)  [{offset}] </li></ul>\n",
    "    \"\"\".format(fname=fname, time=float(d.acquisition_duration), Dex=Dex, Aex=Aex, \n",
    "               period=d.alex_period, period_us=d.alex_period*d.clk_p*1e6, offset=d.offset,\n",
    "               descr=d.description.decode())\n",
    "    return HTML(s)"
   ]
  },
  {
   "cell_type": "code",
   "execution_count": null,
   "metadata": {},
   "outputs": [],
   "source": [
    "save_figures = True\n",
    "savefigdir = 'figures'\n",
    "\n",
    "def save_name(name, folder='.', nospaces=False):\n",
    "    sname = '%s/%s_%s' % (folder, mlabel, name)\n",
    "    if nospaces:\n",
    "        sname = sname.replace(' ', '_')\n",
    "    return sname \n",
    "    \n",
    "def savefig(name, nospaces=True, **kwargs):\n",
    "    if not save_figures:\n",
    "        return\n",
    "    savefigpath = Path(savefigdir)\n",
    "    savefigpath.mkdir(exist_ok=True)\n",
    "    kwargs_ = dict(dpi=100, bbox_inches='tight')\n",
    "                   #frameon=True, facecolor='white', transparent=False)\n",
    "    kwargs_.update(kwargs)\n",
    "    fname = save_name(name, savefigdir, nospaces=nospaces)\n",
    "    plt.savefig(fname, **kwargs_)\n",
    "    print('Saved: %s.png' % fname, flush=True)"
   ]
  },
  {
   "cell_type": "markdown",
   "metadata": {},
   "source": [
    "# Load Data"
   ]
  },
  {
   "cell_type": "code",
   "execution_count": null,
   "metadata": {},
   "outputs": [],
   "source": [
    "d = loader.photon_hdf5(str(fname), ondisk=True)"
   ]
  },
  {
   "cell_type": "code",
   "execution_count": null,
   "metadata": {},
   "outputs": [],
   "source": [
    "info_html(d)"
   ]
  },
  {
   "cell_type": "code",
   "execution_count": null,
   "metadata": {},
   "outputs": [],
   "source": [
    "fig, ax = plt.subplots(figsize=(12, 8))\n",
    "bpl.plot_alternation_hist_usalex(d, ax=ax, bins=np.arange(0, 4097, 16))"
   ]
  },
  {
   "cell_type": "code",
   "execution_count": null,
   "metadata": {},
   "outputs": [],
   "source": [
    "%%timeit -n1 -r1 \n",
    "loader.alex_apply_period(d)"
   ]
  },
  {
   "cell_type": "markdown",
   "metadata": {},
   "source": [
    "# Analysis"
   ]
  },
  {
   "cell_type": "markdown",
   "metadata": {},
   "source": [
    "## Timetraces"
   ]
  },
  {
   "cell_type": "code",
   "execution_count": null,
   "metadata": {},
   "outputs": [],
   "source": [
    "if plot_timetraces:\n",
    "    num_time_points = 5\n",
    "    kws = dict(figsize=(24, 8), xrotation=45)\n",
    "    \n",
    "    # Timepoints equally distributed along the measurement\n",
    "    time_points = np.round(np.linspace(d.time_min+1, d.time_max-2, num=num_time_points))\n",
    "\n",
    "    for i in time_points:\n",
    "        dplot(d, timetrace, tmin=i, tmax=i+1, **kws);\n",
    "        plt.ylim(-100, 100)\n",
    "        savefig(\"%s_timetrace_t=%d-%d.png\" % (mlabel, i, i+1))"
   ]
  },
  {
   "cell_type": "markdown",
   "metadata": {},
   "source": [
    "## Background"
   ]
  },
  {
   "cell_type": "code",
   "execution_count": null,
   "metadata": {},
   "outputs": [],
   "source": [
    "d.calc_bg_cache(bg.exp_fit, time_s=5, tail_min_us='auto', F_bg=1.7)"
   ]
  },
  {
   "cell_type": "code",
   "execution_count": null,
   "metadata": {},
   "outputs": [],
   "source": [
    "ax = dplot(d, timetrace_bg, show_da=True, hspace=0, wspace=0.08,\n",
    "           plot_style=dict(marker=None), title='right top', \n",
    "           title_kws=dict(fontsize=16), xrotation=45);\n",
    "plt.xlim(0)\n",
    "plt.ylim(0, 8);"
   ]
  },
  {
   "cell_type": "code",
   "execution_count": null,
   "metadata": {},
   "outputs": [],
   "source": [
    "bg_AexDem = d.bg_from(Ph_sel(Aex='Dem'))\n",
    "bg_AexAem = d.bg_from(Ph_sel(Aex='Aem'))\n",
    "bg_DexDem = d.bg_from(Ph_sel(Dex='Dem'))\n",
    "bg_DexAem = d.bg_from(Ph_sel(Dex='Aem'))"
   ]
  },
  {
   "cell_type": "code",
   "execution_count": null,
   "metadata": {},
   "outputs": [],
   "source": [
    "fig, ax = plt.subplots(1, 2, figsize=(12, 4), sharex=True, sharey=True)\n",
    "fig.suptitle(\"BG A-excitation period\")\n",
    "ax[0].plot(np.array(bg_AexDem).T, color='g', alpha=0.2);\n",
    "ax[1].plot(np.array(bg_AexAem).T, color='r', alpha=0.2);"
   ]
  },
  {
   "cell_type": "code",
   "execution_count": null,
   "metadata": {},
   "outputs": [],
   "source": [
    "fig, ax = plt.subplots(1, 2, figsize=(12, 4), sharex=True, sharey=True)\n",
    "fig.suptitle(\"BG D-excitation period\")\n",
    "ax[0].plot(np.array(bg_DexDem).T, color='g', alpha=0.2);\n",
    "ax[1].plot(np.array(bg_DexAem).T, color='r', alpha=0.2);"
   ]
  },
  {
   "cell_type": "markdown",
   "metadata": {},
   "source": [
    "## Burst search"
   ]
  },
  {
   "cell_type": "code",
   "execution_count": null,
   "metadata": {},
   "outputs": [],
   "source": [
    "d.burst_search(min_rate_cps=50e3, pax=True)"
   ]
  },
  {
   "cell_type": "code",
   "execution_count": null,
   "metadata": {},
   "outputs": [],
   "source": [
    "kws = dict(skip_ch=(12, 13), hspace=0, wspace=0, top=0.96, \n",
    "           title_bg=False, title_nbursts=False, title='in')"
   ]
  },
  {
   "cell_type": "code",
   "execution_count": null,
   "metadata": {},
   "outputs": [],
   "source": [
    "size_th = 15\n",
    "size_sel_kws = dict(add_aex=True)\n",
    "dplot(d, hist_size, vline=size_th, **size_sel_kws, **kws);\n",
    "plt.xlim(-10, 250)\n",
    "plt.legend();"
   ]
  },
  {
   "cell_type": "code",
   "execution_count": null,
   "metadata": {},
   "outputs": [],
   "source": [
    "bs_mean = []\n",
    "for i in range(48):\n",
    "    sizes_ch = d.burst_sizes_pax_ich(i, **size_sel_kws) \n",
    "    tail = sizes_ch > size_th\n",
    "    bs_mean.append(sizes_ch[tail].mean() - size_th)"
   ]
  },
  {
   "cell_type": "code",
   "execution_count": null,
   "metadata": {},
   "outputs": [],
   "source": [
    "heatmap48(bs_mean, cmap='viridis', skip_ch=(12, 13),\n",
    "          title=\"Mean Burst Sizes\", vmin=10)\n",
    "savefig('heatmap_burst_sizes')"
   ]
  },
  {
   "cell_type": "code",
   "execution_count": null,
   "metadata": {},
   "outputs": [],
   "source": [
    "width_th = 0.4\n",
    "dplot(d, hist_width, vline=width_th, **kws);\n",
    "plt.xlim(-0.5, 4)"
   ]
  },
  {
   "cell_type": "code",
   "execution_count": null,
   "metadata": {},
   "outputs": [],
   "source": [
    "bw_mean = []\n",
    "for i in range(48):\n",
    "    widths_ch = d.mburst[i].width * d.clk_p * 1e3\n",
    "    tail = widths_ch > width_th\n",
    "    bw_mean.append(widths_ch[tail].mean() - width_th)"
   ]
  },
  {
   "cell_type": "code",
   "execution_count": null,
   "metadata": {},
   "outputs": [],
   "source": [
    "heatmap48(bw_mean, cmap='viridis', skip_ch=(12, 13),\n",
    "          title=\"Mean Burst Width (ms)\", vmin=0.1)\n",
    "savefig('heatmap_burst_widths')"
   ]
  },
  {
   "cell_type": "code",
   "execution_count": null,
   "metadata": {},
   "outputs": [],
   "source": [
    "# Use recompute=True if changing burst-search parameters\n",
    "recompute = False\n",
    "phrates = {}\n",
    "streams = ('all', 'DexDem', 'AexDem', 'DexAem', 'AexAem', )\n",
    "for stream in streams:\n",
    "    print(' - Computing peak photon rates for %6s stream.' % str(Ph_sel.from_str(stream)))\n",
    "    cal_phrate(d, stream=Ph_sel.from_str(stream), phrates=phrates, recompute=recompute)"
   ]
  },
  {
   "cell_type": "code",
   "execution_count": null,
   "metadata": {},
   "outputs": [],
   "source": [
    "kws = dict(figsize=(18, 6), skip_ch=(12, 13), wspace=0, hspace=0, grid=True, \n",
    "           title=None, title_nbursts=False, title_bg=False, xrotation=45)\n",
    "\n",
    "ax = dplot(phrates['AexAemB'], hist_burst_phrate, \n",
    "           plot_style=dict(color=bpl.purple, ms=3), **kws);\n",
    "dplot(phrates['AexDemB'], hist_burst_phrate, \n",
    "      plot_style=dict(color='C0', ms=3), AX=ax, **kws);\n",
    "dplot(phrates['DexDemB'], hist_burst_phrate, \n",
    "      plot_style=dict(color=bpl.green, ms=3), AX=ax, **kws);\n",
    "kws.update(vline=60, title='in', title_nbursts=False, title_bg=False,)\n",
    "dplot(phrates['DexAemB'], hist_burst_phrate, \n",
    "      plot_style=dict(color=bpl.red, ms=3), AX=ax, **kws);\n",
    "plt.xlim(-50, 1150);\n",
    "plt.setp(ax[:, 0], ylabel='PDF')\n",
    "plt.setp(ax[-1], xlabel='kcps')\n",
    "savefig('peak_phrate_all')"
   ]
  },
  {
   "cell_type": "code",
   "execution_count": null,
   "metadata": {},
   "outputs": [],
   "source": [
    "phr_th = 60e3\n",
    "for stream in streams:\n",
    "    phrates[stream]['mean'] = 0\n",
    "    phr = phrates[stream+'B']\n",
    "    for ich in range(48):\n",
    "        valid = ~pd.isnull(phr[ich])\n",
    "        phr_valid = phr[ich][valid]\n",
    "        m = phr_valid[phr_valid >= phr_th].mean() - phr_th\n",
    "        phrates[stream].loc[ich, 'mean'] = np.round(m*1e-3, 1)"
   ]
  },
  {
   "cell_type": "code",
   "execution_count": null,
   "metadata": {},
   "outputs": [],
   "source": [
    "streams"
   ]
  },
  {
   "cell_type": "code",
   "execution_count": null,
   "metadata": {},
   "outputs": [],
   "source": [
    "cmaps = ('bone', 'Greens_r', 'Blues_r', 'Reds_r', 'Purples_r')\n",
    "for stream, cmap in zip(streams, cmaps):\n",
    "    heatmap48(phrates[stream]['mean'], cmap=cmap, skip_ch=(12, 13),\n",
    "              title=\"Peak Photon Rate in %s (kcps)\" % stream)\n",
    "    savefig('peak_phrate_heatmap_%s' % stream)"
   ]
  },
  {
   "cell_type": "markdown",
   "metadata": {},
   "source": [
    "## Burst selection"
   ]
  },
  {
   "cell_type": "code",
   "execution_count": null,
   "metadata": {},
   "outputs": [],
   "source": [
    "th1 = 40\n",
    "ds = d.select_bursts(select_bursts.size, th1=th1, gamma=0.5, add_aex=True)\n",
    "\n",
    "Su = [(nd + na)/(nd + na + naa) for nd, na, naa in zip(ds.nd, ds.na, ds.naa)]\n",
    "ds.add(Su=Su)"
   ]
  },
  {
   "cell_type": "code",
   "execution_count": null,
   "metadata": {},
   "outputs": [],
   "source": [
    "heatmap48(ds.num_bursts)"
   ]
  },
  {
   "cell_type": "code",
   "execution_count": null,
   "metadata": {},
   "outputs": [],
   "source": [
    "ax = dplot(ds, hist_fret, pdf=False, skip_ch=(12, 13));\n",
    "plt.setp(ax[:, 0], ylabel='# Bursts');\n",
    "# plt.ylim(0, 600);\n",
    "savefig('48spot hist E all-bursts')"
   ]
  },
  {
   "cell_type": "code",
   "execution_count": null,
   "metadata": {},
   "outputs": [],
   "source": [
    "ax = dplot(ds, hist_S, pdf=False, skip_ch=(12, 13));\n",
    "plt.setp(ax[:, 0], ylabel='# Bursts');\n",
    "savefig('48spot hist S all-bursts')"
   ]
  },
  {
   "cell_type": "code",
   "execution_count": null,
   "metadata": {},
   "outputs": [],
   "source": [
    "dplot(ds, hist_burst_data, data_name='Su', pdf=False, skip_ch=(12, 13));\n",
    "plt.setp(ax[:, 0], ylabel='# Bursts');\n",
    "savefig('48spot hist Su')"
   ]
  },
  {
   "cell_type": "code",
   "execution_count": null,
   "metadata": {},
   "outputs": [],
   "source": [
    "ax = dplot(ds, hexbin_alex, vmax=10, skip_ch=(12, 13), wspace=0, hspace=0, gridsize=60,\n",
    "           title='bottom left', title_bg=False);\n",
    "ax0 = ax[0,0]\n",
    "fig = ax0.figure\n",
    "cax = fig.add_axes([0.97, 0.25, 0.01, 0.5])\n",
    "plt.colorbar(cax=cax)\n",
    "plt.setp(ax[:, 0], ylabel='S');\n",
    "ax0.set_xticks([0, 0.5, 1])\n",
    "ax0.set_yticks([0, 0.5, 1]);\n",
    "ax0.set_xlim(-0.2, 1)\n",
    "ax0.set_ylim(0, 1.2);\n",
    "savefig('48spot alex hist S all-bursts')"
   ]
  },
  {
   "cell_type": "code",
   "execution_count": null,
   "metadata": {},
   "outputs": [],
   "source": [
    "ax = dplot(ds, hexbin_alex, vmax=10, S_name='Su', skip_ch=(12, 13), \n",
    "           wspace=0, hspace=0, gridsize=60, title='bottom left', title_bg=False);\n",
    "ax0 = ax[0, 0]\n",
    "fig = ax0.figure\n",
    "cax = fig.add_axes([0.97, 0.25, 0.01, 0.5])\n",
    "plt.setp(ax[:, 0], ylabel='$S_u$');\n",
    "plt.setp(ax[-1], xlabel='$E_{PR}$');\n",
    "plt.colorbar(cax=cax)\n",
    "ax0.set_xticks([0, 0.5, 1])\n",
    "ax0.set_yticks([0, 0.5, 1]);\n",
    "ax0.set_xlim(-0.2, 1)\n",
    "ax0.set_ylim(0, 1.2);\n",
    "savefig('48spot alex hist Su all-bursts')"
   ]
  },
  {
   "cell_type": "code",
   "execution_count": null,
   "metadata": {},
   "outputs": [],
   "source": [
    "th1 = 20\n",
    "dss1 = d.select_bursts(select_bursts.naa, th1=th1)\n",
    "dss = dss1.select_bursts(select_bursts.size, th1=th1, gamma=0.5)\n",
    "\n",
    "Su = [(nd + na)/(nd + na + naa) for nd, na, naa in zip(dss.nd, dss.na, dss.naa)]\n",
    "dss.add(Su=Su)"
   ]
  },
  {
   "cell_type": "code",
   "execution_count": null,
   "metadata": {},
   "outputs": [],
   "source": [
    "ax = dplot(dss, hexbin_alex, vmax=10, S_name='Su', skip_ch=(12, 13), \n",
    "           wspace=0, hspace=0, gridsize=60, title='bottom left', title_bg=False);\n",
    "ax0 = ax[0,0]\n",
    "fig = ax0.figure\n",
    "cax = fig.add_axes([0.97, 0.25, 0.01, 0.5])\n",
    "plt.colorbar(cax=cax)\n",
    "plt.setp(ax[:, 0], ylabel='$S_u$');\n",
    "plt.setp(ax[-1], xlabel='$E_{PR}$');\n",
    "ax0.set_xticks([0, 0.5, 1])\n",
    "ax0.set_yticks([0, 0.5, 1]);\n",
    "ax0.set_xlim(-0.2, 1)\n",
    "ax0.set_ylim(0, 1.2);\n",
    "savefig('48spot alex hist Su naa AND size selection')"
   ]
  },
  {
   "cell_type": "markdown",
   "metadata": {},
   "source": [
    "## Fitting"
   ]
  },
  {
   "cell_type": "markdown",
   "metadata": {},
   "source": [
    "### FRET population fit"
   ]
  },
  {
   "cell_type": "code",
   "execution_count": null,
   "metadata": {},
   "outputs": [],
   "source": [
    "ds_fret = dss"
   ]
  },
  {
   "cell_type": "code",
   "execution_count": null,
   "metadata": {},
   "outputs": [],
   "source": [
    "E_fitter = bext.bursts_fitter(ds_fret, 'E', skip_ch=(12, 13))\n",
    "model = mfit.factory_gaussian()\n",
    "model.set_param_hint('center', value=0.5, min=0, max=1)\n",
    "model.set_param_hint('sigma', value=0.1, min=0.03, max=0.2)\n",
    "model.print_param_hints()"
   ]
  },
  {
   "cell_type": "code",
   "execution_count": null,
   "metadata": {},
   "outputs": [],
   "source": [
    "E_fitter.fit_histogram(model, pdf=False, method='mealder')"
   ]
  },
  {
   "cell_type": "code",
   "execution_count": null,
   "metadata": {},
   "outputs": [],
   "source": [
    "ax = dplot(ds_fret, hist_fret, pdf=False, show_model=True, skip_ch=(12, 13));\n",
    "plt.setp(ax[:, 0], ylabel='# Bursts')\n",
    "savefig('FRET pop - E hist fit')"
   ]
  },
  {
   "cell_type": "code",
   "execution_count": null,
   "metadata": {},
   "outputs": [],
   "source": [
    "S_fitter = bext.bursts_fitter(ds_fret, 'S', skip_ch=(12, 13))\n",
    "model = mfit.factory_gaussian()\n",
    "model.set_param_hint('center', value=0.5, min=0, max=1)\n",
    "model.set_param_hint('sigma', value=0.1, min=0.03, max=0.2)\n",
    "model.print_param_hints()"
   ]
  },
  {
   "cell_type": "code",
   "execution_count": null,
   "metadata": {},
   "outputs": [],
   "source": [
    "S_fitter.fit_histogram(model, pdf=False, method='mealder')"
   ]
  },
  {
   "cell_type": "code",
   "execution_count": null,
   "metadata": {},
   "outputs": [],
   "source": [
    "ax = dplot(ds_fret, hist_S, pdf=False, show_model=True, skip_ch=(12, 13));\n",
    "plt.setp(ax[:, 0], ylabel='# Bursts')\n",
    "savefig('FRET pop - E hist fit');"
   ]
  },
  {
   "cell_type": "code",
   "execution_count": null,
   "metadata": {},
   "outputs": [],
   "source": [
    "Su_fitter = bext.bursts_fitter(ds_fret, 'Su', skip_ch=(12, 13))\n",
    "model = mfit.factory_gaussian()\n",
    "model.set_param_hint('center', value=0.5, min=0, max=1)\n",
    "model.set_param_hint('sigma', value=0.1, min=0.03, max=0.2)\n",
    "model.print_param_hints()"
   ]
  },
  {
   "cell_type": "code",
   "execution_count": null,
   "metadata": {},
   "outputs": [],
   "source": [
    "Su_fitter.fit_histogram(model, pdf=False, method='mealder')"
   ]
  },
  {
   "cell_type": "code",
   "execution_count": null,
   "metadata": {},
   "outputs": [],
   "source": [
    "ax = dplot(ds_fret, hist_burst_data, data_name='Su', pdf=False, show_model=True, skip_ch=(12, 13));\n",
    "plt.setp(ax[:, 0], ylabel='# Bursts')\n",
    "savefig('FRET pop - Su hist fit');"
   ]
  },
  {
   "cell_type": "markdown",
   "metadata": {},
   "source": [
    "### FRET population tidy"
   ]
  },
  {
   "cell_type": "code",
   "execution_count": null,
   "metadata": {},
   "outputs": [],
   "source": [
    "def make_ES_fit_dataframe(E_df_fitt, S_df_fitt, Su_df_fitt, dx, skip_ch=(12, 13)):\n",
    "    pop_peak = E_df_fitt.query('name == \"center\"').loc[:,('value', 'spot')].set_index('spot')\n",
    "    pop_peak.columns = ['E']\n",
    "    pop_peak['S'] = S_df_fitt.query('name == \"center\"').loc[:,('value', 'spot')].set_index('spot')\n",
    "    pop_peak['Su'] = Su_df_fitt.query('name == \"center\"').loc[:,('value', 'spot')].set_index('spot')\n",
    "    pop_peak['num_bursts'] = dx.num_bursts\n",
    "\n",
    "    pop_peak['E_sigma'] = E_df_fitt.query('name == \"sigma\"').loc[:,('value', 'spot')].set_index('spot')\n",
    "    pop_peak['S_sigma'] = S_df_fitt.query('name == \"sigma\"').loc[:,('value', 'spot')].set_index('spot')\n",
    "    pop_peak['Su_sigma'] = Su_df_fitt.query('name == \"sigma\"').loc[:,('value', 'spot')].set_index('spot')\n",
    "\n",
    "    pop_peak['E_err'] = pop_peak['E_sigma'] / np.sqrt(pop_peak['num_bursts'])\n",
    "    pop_peak['S_err'] = pop_peak['S_sigma'] / np.sqrt(pop_peak['num_bursts'])\n",
    "    pop_peak['Su_err'] = pop_peak['Su_sigma'] / np.sqrt(pop_peak['num_bursts'])\n",
    "\n",
    "    pop_peak.loc[skip_ch, (c for c in pop_peak.columns if c != 'num_bursts')] = np.nan\n",
    "\n",
    "    # Add categorical column for pixel grouping\n",
    "    # spotv is a global var from heatmatp.py\n",
    "    pixel_groups = {\n",
    "        'center': spotsv[4:8],\n",
    "        'top':    spotsv[:4],\n",
    "        'bottom': spotsv[-4:]}\n",
    "    cat = {}\n",
    "    for i, row in pop_peak.iterrows():\n",
    "        for group, group_vals in pixel_groups.items(): \n",
    "            if i in group_vals:\n",
    "                cat[i] = group\n",
    "    pop_peak['Pixel'] = pd.Series(cat, dtype=\"category\")\n",
    "    return pop_peak"
   ]
  },
  {
   "cell_type": "code",
   "execution_count": null,
   "metadata": {},
   "outputs": [],
   "source": [
    "Efret_fitg = br.glance(E_fitter.fit_res, var_names='spot')\n",
    "Sfret_fitg = br.glance(S_fitter.fit_res, var_names='spot')\n",
    "Sufret_fitg = br.glance(Su_fitter.fit_res, var_names='spot')"
   ]
  },
  {
   "cell_type": "code",
   "execution_count": null,
   "metadata": {},
   "outputs": [],
   "source": [
    "Efret_fitg.head(3)"
   ]
  },
  {
   "cell_type": "code",
   "execution_count": null,
   "metadata": {},
   "outputs": [],
   "source": [
    "Sfret_fitg.head(3)"
   ]
  },
  {
   "cell_type": "code",
   "execution_count": null,
   "metadata": {},
   "outputs": [],
   "source": [
    "Sufret_fitg.head(3)"
   ]
  },
  {
   "cell_type": "code",
   "execution_count": null,
   "metadata": {},
   "outputs": [],
   "source": [
    "Efret_fitt = br.tidy(E_fitter.fit_res, var_names='spot')\n",
    "Sfret_fitt = br.tidy(S_fitter.fit_res, var_names='spot')\n",
    "Sufret_fitt = br.tidy(Su_fitter.fit_res, var_names='spot')\n",
    "Efret_fitt.head()"
   ]
  },
  {
   "cell_type": "code",
   "execution_count": null,
   "metadata": {},
   "outputs": [],
   "source": [
    "FRET_peak = make_ES_fit_dataframe(Efret_fitt, Sfret_fitt, Sufret_fitt, ds_fret)"
   ]
  },
  {
   "cell_type": "code",
   "execution_count": null,
   "metadata": {},
   "outputs": [],
   "source": [
    "FRET_peak.head()"
   ]
  },
  {
   "cell_type": "markdown",
   "metadata": {},
   "source": [
    "### FRET population plots"
   ]
  },
  {
   "cell_type": "code",
   "execution_count": null,
   "metadata": {},
   "outputs": [],
   "source": [
    "binwidth = 0.02\n",
    "bins= np.arange(-0.1, 1.1, binwidth) + 0.5*binwidth\n",
    "labels = sorted(set(FRET_peak.Pixel))\n",
    "Efret_groups = [np.array(FRET_peak.E[FRET_peak.Pixel == grp]) for grp in labels]\n",
    "\n",
    "plt.hist(Efret_groups, bins=bins, range=(bins.min(), bins.max()), histtype='bar', stacked=True);\n",
    "plt.xlabel('E')\n",
    "plt.ylabel('# Spots')\n",
    "plt.xlim(-0.1, 1.1)\n",
    "plt.title('Distributions of FRET peak positions')\n",
    "plt.legend(labels, title='Pixel group')\n",
    "print('FRET pop: E mean [min, max] = %5.3f [%5.3f, %5.3f], σ = %5.3f' % \n",
    "      (FRET_peak.E.mean(), FRET_peak.E.min(), FRET_peak.E.max(), FRET_peak.E.std()))\n",
    "savefig('FRET_peaks_distributions_grouped.png')"
   ]
  },
  {
   "cell_type": "code",
   "execution_count": null,
   "metadata": {},
   "outputs": [],
   "source": [
    "binwidth = 0.02\n",
    "bins= np.arange(-0.1, 1.1, binwidth) + 0.5*binwidth\n",
    "labels = sorted(set(FRET_peak.Pixel))\n",
    "Sfret_groups = [np.array(FRET_peak.S[FRET_peak.Pixel == grp]) for grp in labels]\n",
    "\n",
    "plt.hist(Sfret_groups, bins=bins, range=(bins.min(), bins.max()), histtype='bar', stacked=True);\n",
    "plt.xlabel('S')\n",
    "plt.ylabel('# Spots')\n",
    "plt.xlim(-0.1, 1.1)\n",
    "plt.title('Distributions of S peak positions')\n",
    "plt.legend(labels, title='Pixel group')\n",
    "print('FRET pop: S mean [min, max] = %5.3f [%5.3f, %5.3f], σ = %5.3f' % \n",
    "      (FRET_peak.S.mean(), FRET_peak.S.min(), FRET_peak.S.max(), FRET_peak.S.std()))\n",
    "savefig('S_peaks_distributions_grouped.png')"
   ]
  },
  {
   "cell_type": "code",
   "execution_count": null,
   "metadata": {},
   "outputs": [],
   "source": [
    "binwidth = 0.02\n",
    "bins= np.arange(-0.1, 1.1, binwidth) + 0.5*binwidth\n",
    "labels = sorted(set(FRET_peak.Pixel))\n",
    "Sufret_groups = [np.array(FRET_peak.Su[FRET_peak.Pixel == grp]) for grp in labels]\n",
    "\n",
    "plt.hist(Sufret_groups, bins=bins, range=(bins.min(), bins.max()), histtype='bar', stacked=True);\n",
    "plt.xlabel('$S_u$')\n",
    "plt.ylabel('# Spots')\n",
    "plt.xlim(-0.1, 1.1)\n",
    "plt.title('Distributions of $S_u$ peak positions')\n",
    "plt.legend(labels, title='Pixel group')\n",
    "print('FRET pop: Su mean [min, max] = %5.3f [%5.3f, %5.3f], σ = %5.3f' % \n",
    "      (FRET_peak.Su.mean(), FRET_peak.Su.min(), FRET_peak.Su.max(), FRET_peak.Su.std()))\n",
    "savefig('Su_peaks_distributions_grouped.png')"
   ]
  },
  {
   "cell_type": "code",
   "execution_count": null,
   "metadata": {},
   "outputs": [],
   "source": [
    "num_bursts = FRET_peak.num_bursts\n",
    "x = FRET_peak.index\n",
    "y = FRET_peak.E\n",
    "yerr = np.array(Efret_fitt.query('name == \"sigma\"')['value']) / np.sqrt(num_bursts)\n",
    "sort = num_bursts.argsort()"
   ]
  },
  {
   "cell_type": "code",
   "execution_count": null,
   "metadata": {},
   "outputs": [],
   "source": [
    "plt.figure(figsize=(10, 4))\n",
    "x = FRET_peak.index / FRET_peak.index.max() * 100\n",
    "y = FRET_peak.E\n",
    "yerr = FRET_peak.E_err\n",
    "plt.errorbar(x, y.loc[sort], yerr.loc[sort], lw=0, elinewidth=2, marker='o', label='Fitted E')\n",
    "plt.xlabel('Fraction of spots (%)')\n",
    "plt.ylabel('Fitted E')\n",
    "plt.ylim(0, 1)\n",
    "plt.legend(frameon=False, loc='upper left')\n",
    "delta = 0.05\n",
    "for ich, (spot, yi, xi) in enumerate(zip(np.arange(48)[sort], y.loc[sort], x)):\n",
    "    delta *= -1\n",
    "    plt.annotate('%d' % spot, (xi, yi + delta), ha='center', va='center')\n",
    "ax2 = plt.twinx()\n",
    "ax2.plot(x, num_bursts[sort], color='C1', ls='--', label='# bursts')\n",
    "ax2.set_ylabel('# Bursts')\n",
    "ax2.grid(True)\n",
    "plt.legend(frameon=False, loc='upper right');\n",
    "savefig('E fit vs num_bursts')"
   ]
  },
  {
   "cell_type": "code",
   "execution_count": null,
   "metadata": {},
   "outputs": [],
   "source": [
    "y = np.array(FRET_peak.E).reshape(4, 12)\n",
    "yerr = np.array(FRET_peak.E_err).reshape(4, 12)\n",
    "x = np.arange(12)"
   ]
  },
  {
   "cell_type": "code",
   "execution_count": null,
   "metadata": {},
   "outputs": [],
   "source": [
    "fig, ax = plt.subplots(1, 1, figsize=(10, 6), squeeze=True, sharex=True, sharey=True)\n",
    "for irow  in range(4):\n",
    "    ax.errorbar(x, y[irow], yerr[irow], lw=0, elinewidth=2, marker='o', label='Pixel Row %d' % irow)\n",
    "ax.set_xticks(range(0, 12, 1))\n",
    "ax.set_ylabel('Fitted E')\n",
    "ax.set_xlabel('Pixel Column')\n",
    "plt.legend()\n",
    "plt.grid(True, axis='y')\n",
    "plt.title('Fitted E vs Pixel Column')\n",
    "savefig('Fitted E vs Pixel Column')"
   ]
  },
  {
   "cell_type": "code",
   "execution_count": null,
   "metadata": {},
   "outputs": [],
   "source": [
    "fig, ax = plt.subplots(figsize=(5,5))\n",
    "ax.plot(FRET_peak.E, FRET_peak.S, lw=0, marker='+', mew=1, label='FRET peak')\n",
    "#ax.plot(FRET_peak.E, FRET_peak.S, lw=0, marker='o', label='FRET peak')\n",
    "ax.set_xlim(0, 1)\n",
    "ax.set_ylim(0, 1)"
   ]
  },
  {
   "cell_type": "markdown",
   "metadata": {},
   "source": [
    "### D-only population fit"
   ]
  },
  {
   "cell_type": "code",
   "execution_count": null,
   "metadata": {},
   "outputs": [],
   "source": [
    "ddo = d.copy()"
   ]
  },
  {
   "cell_type": "code",
   "execution_count": null,
   "metadata": {},
   "outputs": [],
   "source": [
    "ddo.burst_search(min_rate_cps=50e3, pax=True, ph_sel=Ph_sel(Dex='Dem', Aex='Dem'))"
   ]
  },
  {
   "cell_type": "code",
   "execution_count": null,
   "metadata": {},
   "outputs": [],
   "source": [
    "ds_dox = d.select_bursts(select_bursts.nd, th1 = 20)\n",
    "ds_do1 = ds_dox.select_bursts(select_bursts.naa, th2 = 4, th1=-10)\n",
    "\n",
    "Su = [(nd + na)/(nd + na + naa) for nd, na, naa in zip(ds_do1.nd, ds_do1.na, ds_do1.naa)]\n",
    "ds_do1.add(Su=Su)"
   ]
  },
  {
   "cell_type": "code",
   "execution_count": null,
   "metadata": {},
   "outputs": [],
   "source": [
    "ds_dox = ddo.select_bursts(select_bursts.nd, th1 = 20)\n",
    "ds_do2 = ds_dox.select_bursts(select_bursts.naa, th2 = 4, th1=-10)\n",
    "\n",
    "Su = [(nd + na)/(nd + na + naa) for nd, na, naa in zip(ds_do2.nd, ds_do2.na, ds_do2.naa)]\n",
    "ds_do2.add(Su=Su)"
   ]
  },
  {
   "cell_type": "code",
   "execution_count": null,
   "metadata": {},
   "outputs": [],
   "source": [
    "ax = dplot(ds_do2, hexbin_alex, vmax=10, S_name='Su', skip_ch=(12, 13), \n",
    "           wspace=0, hspace=0, gridsize=60, title='bottom left', title_bg=False);\n",
    "ax0 = ax[0, 0]\n",
    "fig = ax0.figure\n",
    "cax = fig.add_axes([0.97, 0.25, 0.01, 0.5])\n",
    "plt.setp(ax[:, 0], ylabel='$S_u$');\n",
    "plt.colorbar(cax=cax)\n",
    "ax0.set_xticks([0, 0.5, 1])\n",
    "ax0.set_yticks([0, 0.5, 1]);\n",
    "ax0.set_xlim(-0.2, 1)\n",
    "ax0.set_ylim(0, 1.2);\n",
    "savefig('48spot alex hist Su DonlyBS')"
   ]
  },
  {
   "cell_type": "code",
   "execution_count": null,
   "metadata": {},
   "outputs": [],
   "source": [
    "ax = dplot(ds_do1, hexbin_alex, vmax=10, S_name='Su', skip_ch=(12, 13), \n",
    "           wspace=0, hspace=0, gridsize=60, title='bottom left', title_bg=False);\n",
    "ax0 = ax[0, 0]\n",
    "fig = ax0.figure\n",
    "cax = fig.add_axes([0.97, 0.25, 0.01, 0.5])\n",
    "plt.setp(ax[:, 0], ylabel='$S_u$');\n",
    "plt.colorbar(cax=cax)\n",
    "ax0.set_xticks([0, 0.5, 1])\n",
    "ax0.set_yticks([0, 0.5, 1]);\n",
    "ax0.set_xlim(-0.2, 1)\n",
    "ax0.set_ylim(0, 1.2);\n",
    "savefig('48spot alex hist Su Donly')"
   ]
  },
  {
   "cell_type": "code",
   "execution_count": null,
   "metadata": {},
   "outputs": [],
   "source": [
    "ds_do = ds_do2"
   ]
  },
  {
   "cell_type": "code",
   "execution_count": null,
   "metadata": {},
   "outputs": [],
   "source": [
    "E_fitter = bext.bursts_fitter(ds_do, 'E', skip_ch=(12, 13))\n",
    "model = mfit.factory_gaussian()\n",
    "model.set_param_hint('center', value=0.05, min=-0.2, max=0.4)\n",
    "model.set_param_hint('sigma', value=0.1, min=0.03, max=0.2)\n",
    "model.print_param_hints()"
   ]
  },
  {
   "cell_type": "code",
   "execution_count": null,
   "metadata": {},
   "outputs": [],
   "source": [
    "E_fitter.fit_histogram(model, pdf=False, method='mealder')"
   ]
  },
  {
   "cell_type": "code",
   "execution_count": null,
   "metadata": {},
   "outputs": [],
   "source": [
    "ax = dplot(ds_do, hist_fret, pdf=False, show_model=True, skip_ch=(12, 13));\n",
    "plt.setp(ax[:, 0], ylabel='# Bursts')\n",
    "savefig('DO pop - E hist fit')"
   ]
  },
  {
   "cell_type": "code",
   "execution_count": null,
   "metadata": {},
   "outputs": [],
   "source": [
    "S_fitter = bext.bursts_fitter(ds_do, 'S', skip_ch=(12, 13))\n",
    "model = mfit.factory_gaussian()\n",
    "model.set_param_hint('center', value=0.9, min=0, max=1.1)\n",
    "model.set_param_hint('sigma', value=0.1, min=0.03, max=0.3)\n",
    "model.print_param_hints()"
   ]
  },
  {
   "cell_type": "code",
   "execution_count": null,
   "metadata": {},
   "outputs": [],
   "source": [
    "S_fitter.fit_histogram(model, pdf=False, method='mealder')"
   ]
  },
  {
   "cell_type": "code",
   "execution_count": null,
   "metadata": {},
   "outputs": [],
   "source": [
    "ax = dplot(ds_do, hist_S, pdf=False, show_model=True, skip_ch=(12, 13));\n",
    "plt.setp(ax[:, 0], ylabel='# Bursts')\n",
    "savefig('DO pop - S hist fit');"
   ]
  },
  {
   "cell_type": "code",
   "execution_count": null,
   "metadata": {},
   "outputs": [],
   "source": [
    "Su_fitter = bext.bursts_fitter(ds_do, 'Su', skip_ch=(12, 13))\n",
    "model = mfit.factory_gaussian()\n",
    "model.set_param_hint('center', value=0.9, min=0, max=1.2)\n",
    "model.set_param_hint('sigma', value=0.1, min=0.03, max=0.2)\n",
    "model.print_param_hints()"
   ]
  },
  {
   "cell_type": "code",
   "execution_count": null,
   "metadata": {},
   "outputs": [],
   "source": [
    "Su_fitter.fit_histogram(model, pdf=False, method='mealder')"
   ]
  },
  {
   "cell_type": "code",
   "execution_count": null,
   "metadata": {},
   "outputs": [],
   "source": [
    "ax = dplot(ds_do, hist_burst_data, data_name='Su', pdf=False, show_model=True, skip_ch=(12, 13));\n",
    "plt.setp(ax[:, 0], ylabel='# Bursts')\n",
    "savefig('DO pop - Su hist fit');"
   ]
  },
  {
   "cell_type": "markdown",
   "metadata": {},
   "source": [
    "### D-only population tidy"
   ]
  },
  {
   "cell_type": "code",
   "execution_count": null,
   "metadata": {},
   "outputs": [],
   "source": [
    "Edo_fitg = br.glance(E_fitter.fit_res, var_names='spot')\n",
    "Sdo_fitg = br.glance(S_fitter.fit_res, var_names='spot')\n",
    "Sudo_fitg = br.glance(Su_fitter.fit_res, var_names='spot')"
   ]
  },
  {
   "cell_type": "code",
   "execution_count": null,
   "metadata": {},
   "outputs": [],
   "source": [
    "Edo_fitg.head(3)"
   ]
  },
  {
   "cell_type": "code",
   "execution_count": null,
   "metadata": {},
   "outputs": [],
   "source": [
    "Sdo_fitg.head(3)"
   ]
  },
  {
   "cell_type": "code",
   "execution_count": null,
   "metadata": {},
   "outputs": [],
   "source": [
    "Sudo_fitg.head(3)"
   ]
  },
  {
   "cell_type": "code",
   "execution_count": null,
   "metadata": {},
   "outputs": [],
   "source": [
    "Edo_fitt = br.tidy(E_fitter.fit_res, var_names='spot')\n",
    "Sdo_fitt = br.tidy(S_fitter.fit_res, var_names='spot')\n",
    "Sudo_fitt = br.tidy(Su_fitter.fit_res, var_names='spot')\n",
    "Edo_fitt.head()"
   ]
  },
  {
   "cell_type": "code",
   "execution_count": null,
   "metadata": {},
   "outputs": [],
   "source": [
    "DO_peak = make_ES_fit_dataframe(Edo_fitt, Sdo_fitt, Sudo_fitt, ds_do)"
   ]
  },
  {
   "cell_type": "code",
   "execution_count": null,
   "metadata": {},
   "outputs": [],
   "source": [
    "DO_peak.head()"
   ]
  },
  {
   "cell_type": "markdown",
   "metadata": {},
   "source": [
    "### D-only population plots"
   ]
  },
  {
   "cell_type": "code",
   "execution_count": null,
   "metadata": {},
   "outputs": [],
   "source": [
    "binwidth = 0.02\n",
    "bins= np.arange(-0.1, 1.1, binwidth) + 0.5*binwidth\n",
    "labels = sorted(set(DO_peak.Pixel))\n",
    "Edo_groups = [np.array(DO_peak.E[DO_peak.Pixel == grp]) for grp in labels]\n",
    "\n",
    "plt.hist(Edo_groups, bins=bins, histtype='bar', range=(bins.min(), bins.max()), stacked=True);\n",
    "plt.hist(Efret_groups, bins=bins, histtype='bar', range=(bins.min(), bins.max()), stacked=True, color=('C0', 'C1', 'C2'));\n",
    "\n",
    "plt.xlabel('E')\n",
    "plt.ylabel('# Spots')\n",
    "plt.xlim(-0.1, 1.1)\n",
    "plt.title('Distributions of E peak centers for FRET and D-only populations')\n",
    "plt.legend(labels)\n",
    "print('DO pop  : E mean [min, max] = %5.3f [%5.3f, %5.3f], σ = %5.3f' % \n",
    "      (DO_peak.E.mean(), DO_peak.E.min(), DO_peak.E.max(), DO_peak.E.std()))\n",
    "print('FRET pop: E mean [min, max] = %5.3f [%5.3f, %5.3f], σ = %5.3f' % \n",
    "      (FRET_peak.E.mean(), FRET_peak.E.min(), FRET_peak.E.max(), FRET_peak.E.std()))\n",
    "savefig('FRET_vs_DO_peaks_distributions_grouped.png')"
   ]
  },
  {
   "cell_type": "code",
   "execution_count": null,
   "metadata": {},
   "outputs": [],
   "source": [
    "binwidth = 0.02\n",
    "bins= np.arange(-0.1, 1.1, binwidth) + 0.5*binwidth\n",
    "labels = sorted(set(DO_peak.Pixel))\n",
    "Sudo_groups = [np.array(DO_peak.Su[DO_peak.Pixel == grp]) for grp in labels]\n",
    "\n",
    "plt.hist(Sudo_groups, bins=bins, histtype='bar', range=(bins.min(), bins.max()), stacked=True);\n",
    "plt.hist(Sufret_groups, bins=bins, histtype='bar', range=(bins.min(), bins.max()), stacked=True, color=('C0', 'C1', 'C2'));\n",
    "plt.xlabel('$S_u$')\n",
    "plt.ylabel('# Spots')\n",
    "plt.xlim(-0.1, 1.1)\n",
    "plt.title('Distributions of $S_u$ peak centers for FRET and D-only populations')\n",
    "plt.legend(labels)\n",
    "print('FRET pop: Su mean [min, max] = %5.3f [%5.3f, %5.3f], σ = %5.3f' % \n",
    "      (FRET_peak.Su.mean(), FRET_peak.Su.min(), FRET_peak.Su.max(), FRET_peak.Su.std()))\n",
    "print('DO      : Su mean [min, max] = %5.3f [%5.3f, %5.3f], σ = %5.3f' % \n",
    "      (DO_peak.Su.mean(), DO_peak.Su.min(), DO_peak.Su.max(), DO_peak.Su.std()))\n",
    "savefig('Su_peaks_distributions_grouped.png')"
   ]
  },
  {
   "cell_type": "code",
   "execution_count": null,
   "metadata": {},
   "outputs": [],
   "source": [
    "fig, ax = plt.subplots(figsize=(8, 5))\n",
    "ax.plot(FRET_peak.E, FRET_peak.S, lw=0, marker='+', mew=1, label='FRET peak')\n",
    "ax.plot(DO_peak.E, DO_peak.S, lw=0, marker='x', mew=1, label='D-only peak')\n",
    "ax.set_xlim(-0.1, 1)\n",
    "ax.set_ylim(0.4, 1.1)\n",
    "plt.setp(ax, xlabel='E', ylabel='S')\n",
    "plt.title('FRET vs DO fitted Epr-S peak position')\n",
    "plt.legend()\n",
    "savefig('FRET vs DO fitted Epr-S peak position')"
   ]
  },
  {
   "cell_type": "code",
   "execution_count": null,
   "metadata": {},
   "outputs": [],
   "source": [
    "fig, ax = plt.subplots(figsize=(8, 5))\n",
    "ax.plot(FRET_peak.E, FRET_peak.Su, lw=0, marker='+', mew=1, label='FRET peak')\n",
    "ax.plot(DO_peak.E, DO_peak.Su, lw=0, marker='x', mew=1, label='D-only peak')\n",
    "ax.set_xlim(-0.1, 1)\n",
    "ax.set_ylim(0.4, 1.1)\n",
    "plt.setp(ax, xlabel='E', ylabel='$S_u$')\n",
    "plt.title('Fitted $E_{PR}$-$S_u$ peak centers in different spots')\n",
    "plt.legend()\n",
    "savefig('FRET vs DO fitted Epr-Su peak position')"
   ]
  },
  {
   "cell_type": "markdown",
   "metadata": {},
   "source": [
    "# Global plots"
   ]
  },
  {
   "cell_type": "code",
   "execution_count": null,
   "metadata": {},
   "outputs": [],
   "source": [
    "def figure48(figsize=(18, 6), annotate=True, \n",
    "             text_fmt='%d', text_x=0.85, text_y=0.9, text_data=spotsh, text_va='top', text_ha='right'):\n",
    "    fig, axes = plt.subplots(4, 12, figsize=figsize, sharex=True, sharey=True)\n",
    "    plt.subplots_adjust(hspace=0, wspace=0)\n",
    "    if annotate:\n",
    "        for irow, axrow in enumerate(axes):\n",
    "            for icol, ax in enumerate(axrow):\n",
    "                ax.text(text_x, text_y, text_fmt % text_data[irow, icol], \n",
    "                        transform=ax.transAxes, ha=text_ha, va=text_va)\n",
    "    return fig, axes"
   ]
  },
  {
   "cell_type": "code",
   "execution_count": null,
   "metadata": {},
   "outputs": [],
   "source": [
    "err_kws = dict(capsize=6, capthick=1.5, marker='o', ms=6)"
   ]
  },
  {
   "cell_type": "code",
   "execution_count": null,
   "metadata": {},
   "outputs": [],
   "source": [
    "x = np.array(FRET_peak.E).reshape(4, 12)\n",
    "xerr = np.array(FRET_peak.E_sigma).reshape(4, 12)\n",
    "y = np.array(FRET_peak.Su).reshape(4, 12)\n",
    "yerr = np.array(FRET_peak.Su_sigma).reshape(4, 12)\n",
    "xmean = np.nanmean(x)\n",
    "ymean = np.nanmean(y)\n",
    "delta = np.max([np.nanmax(yerr), np.nanmax(xerr)])*1.5"
   ]
  },
  {
   "cell_type": "code",
   "execution_count": null,
   "metadata": {},
   "outputs": [],
   "source": [
    "fig, axes = figure48(text_x=0.80, text_y=0.85, text_ha='right')\n",
    "for irow, axrow in enumerate(axes):\n",
    "    for icol, ax in enumerate(axrow):\n",
    "        ax.errorbar(x[irow, icol], y[irow, icol], xerr=xerr[irow,icol], yerr=yerr[irow,icol], **err_kws)\n",
    "        ax.plot(xmean, ymean, marker='o', zorder=10)\n",
    "        sns.despine(left=True, bottom=True)\n",
    "#plt.setp(axes[0], xlim=(np.round(xmean - delta, 1), np.round(xmean + delta, 1)));\n",
    "#plt.setp(axes[:,0], ylim=(ymean - delta, ymean + delta));\n",
    "plt.setp(axes[0], xlim=(0.15, 0.85));\n",
    "plt.setp(axes[:,0], ylim=(0.25, 0.75));\n",
    "plt.setp(axes[-1], xlabel='$E_{PR}$')\n",
    "plt.setp(axes[:, 0], ylabel='$S_u$');\n",
    "for ax in axes[-1]:\n",
    "    sns.despine(bottom=False, left=True, trim=True, ax=ax)\n",
    "for ax in axes[:, 0]:\n",
    "    sns.despine(left=False, bottom=True, trim=True, ax=ax)\n",
    "sns.despine(left=False, bottom=False, trim=True, ax=axes[-1,0])\n",
    "for ax in axes[:-1].ravel():\n",
    "    ax.tick_params(bottom=False)\n",
    "for ax in axes[:, 1:].ravel():\n",
    "    ax.tick_params(left=False)\n",
    "plt.suptitle('Deviation for fitted $E_{PR}$ and $S_u$ from mean values for the 48 spots (sigma peak)', fontsize=14, va='top');\n",
    "savefig('48-spot Epr-Su peak position deviation from mean')"
   ]
  },
  {
   "cell_type": "markdown",
   "metadata": {},
   "source": [
    "# Calibration\n",
    "\n",
    "For convenience we reporte the formula for the relative-$\\gamma$ factor $\\chi_{ch}$\n",
    "and the expression of $E$ as a function of $E_{PR}$:\n",
    "\n",
    "$$\n",
    "\\chi_{ch} = \\frac{\\frac{1}{\\langle E_{PR\\,ch} \\rangle_{ch}} - 1}{\\frac{1}{E_{PR\\,ch}} - 1} \n",
    "$$\n",
    "\n",
    "$$\n",
    "E = \\frac{1}{1 + \\gamma \\left( \\frac{1}{E_{PR}} - 1 \\right)}\n",
    "$$"
   ]
  },
  {
   "cell_type": "code",
   "execution_count": null,
   "metadata": {},
   "outputs": [],
   "source": [
    "chi_ch = (1/FRET_peak.E.mean() - 1) / (1/FRET_peak.E - 1)\n",
    "E_corr = 1 / (1 + chi_ch * (1/FRET_peak.E - 1))\n",
    "E_corr.head()"
   ]
  },
  {
   "cell_type": "code",
   "execution_count": null,
   "metadata": {},
   "outputs": [],
   "source": [
    "assert (E_corr.max() - E_corr.min()) < 1e-9  # Test that E_corr are all \"equal\""
   ]
  },
  {
   "cell_type": "code",
   "execution_count": null,
   "metadata": {},
   "outputs": [],
   "source": [
    "ds_fret.num_bursts"
   ]
  },
  {
   "cell_type": "code",
   "execution_count": null,
   "metadata": {},
   "outputs": [],
   "source": [
    "ds_fret.chi_ch = np.ones(48)"
   ]
  },
  {
   "cell_type": "code",
   "execution_count": null,
   "metadata": {},
   "outputs": [],
   "source": [
    "bursts0 = bext.burst_data(ds_fret)\n",
    "bursts0.shape"
   ]
  },
  {
   "cell_type": "code",
   "execution_count": null,
   "metadata": {},
   "outputs": [],
   "source": [
    "ds_fret.chi_ch = chi_ch"
   ]
  },
  {
   "cell_type": "code",
   "execution_count": null,
   "metadata": {},
   "outputs": [],
   "source": [
    "heatmap48(chi_ch, annot=True, fmt='.2f')"
   ]
  },
  {
   "cell_type": "code",
   "execution_count": null,
   "metadata": {},
   "outputs": [],
   "source": [
    "chi_ch.hist(bins=np.arange(0.5, 1.5, 0.025))"
   ]
  },
  {
   "cell_type": "code",
   "execution_count": null,
   "metadata": {},
   "outputs": [],
   "source": [
    "bursts = bext.burst_data(ds_fret)\n",
    "bursts.shape"
   ]
  },
  {
   "cell_type": "code",
   "execution_count": null,
   "metadata": {},
   "outputs": [],
   "source": [
    "plt.rcParams['font.size'] = 12\n",
    "kw = dict(bins=np.arange(-0.1,1.2, 0.02), histtype='step', lw=2, range=(-0.1, 1.1))\n",
    "plt.hist(bursts0.E, label='raw', **kw);\n",
    "plt.hist(bursts.E, label='calibrated', **kw);\n",
    "plt.legend();\n",
    "plt.title('48-spot E histogram, raw vs per-ch calibration');\n",
    "plt.xlabel('$E_{PR}$')\n",
    "savefig('48-spot calibration')\n",
    "plt.rcParams['font.size'] = 14"
   ]
  },
  {
   "cell_type": "code",
   "execution_count": null,
   "metadata": {},
   "outputs": [],
   "source": [
    "bursts.head()"
   ]
  },
  {
   "cell_type": "code",
   "execution_count": null,
   "metadata": {},
   "outputs": [],
   "source": [
    "ich = 33\n",
    "chi_ch[ich]"
   ]
  },
  {
   "cell_type": "code",
   "execution_count": null,
   "metadata": {},
   "outputs": [],
   "source": [
    "ds_fret.chi_ch = np.ones(48)"
   ]
  },
  {
   "cell_type": "code",
   "execution_count": null,
   "metadata": {},
   "outputs": [],
   "source": [
    "E0 = ds_fret.E[ich]"
   ]
  },
  {
   "cell_type": "code",
   "execution_count": null,
   "metadata": {},
   "outputs": [],
   "source": [
    "ds_fret.chi_ch = chi_ch"
   ]
  },
  {
   "cell_type": "code",
   "execution_count": null,
   "metadata": {},
   "outputs": [],
   "source": [
    "E = ds_fret.E[ich]"
   ]
  },
  {
   "cell_type": "code",
   "execution_count": null,
   "metadata": {},
   "outputs": [],
   "source": [
    "kw = dict(bins=np.arange(-0.1,1.1, 0.0333), histtype='step', lw=2)\n",
    "plt.hist(E0, label='raw', **kw);\n",
    "plt.hist(E, label='calibrated', **kw);\n",
    "plt.legend();\n",
    "plt.title('Spot %d ($\\chi_i$ = %.2f) E histogram, raw vs calibrated' % (ich, chi_ch[ich]));"
   ]
  },
  {
   "cell_type": "code",
   "execution_count": null,
   "metadata": {},
   "outputs": [],
   "source": [
    "ich"
   ]
  },
  {
   "cell_type": "code",
   "execution_count": null,
   "metadata": {},
   "outputs": [],
   "source": [
    "E0i = bursts0.E.loc[bursts0.spot == ich]\n",
    "Ei = bursts.E.loc[bursts.spot == ich]"
   ]
  },
  {
   "cell_type": "code",
   "execution_count": null,
   "metadata": {},
   "outputs": [],
   "source": [
    "E0a = bursts0.E.loc[~pd.isnull(bursts0.E)]\n",
    "Ea = bursts.E.loc[~pd.isnull(bursts.E)]"
   ]
  },
  {
   "cell_type": "code",
   "execution_count": null,
   "metadata": {},
   "outputs": [],
   "source": [
    "plt.rcParams['font.size'] = 12\n",
    "fig, (ax0, ax1) = plt.subplots(1, 2, figsize=(10, 4))\n",
    "kw = dict(bins=np.arange(-0.1,1.1, 0.0333), histtype='step', lw=2)\n",
    "ax0.hist(E0a, label='raw', **kw);\n",
    "ax0.hist(Ea, label='calibrated', **kw);\n",
    "\n",
    "ax1.hist(E0i, label='raw', **kw);\n",
    "ax1.hist(Ei, label='calibrated', **kw);\n",
    "ax1.legend();\n",
    "ax1.set_title('Spot %d, $\\chi_i$ = %.2f' % (ich, chi_ch[ich]));\n",
    "ax0.set_title('All Spots');\n",
    "\n",
    "ax1.set_title('Spot %d, $\\chi_i$ = %.2f' % (ich, chi_ch[ich]));\n",
    "plt.rcParams['font.size'] = 14"
   ]
  },
  {
   "cell_type": "code",
   "execution_count": null,
   "metadata": {},
   "outputs": [],
   "source": [
    "plt.rcParams['font.size'] = 12\n",
    "fig, ax0 = plt.subplots(1, 1)\n",
    "kw = dict(bins=np.arange(-0.1,1.1, 0.0333), histtype='step', lw=2)\n",
    "ax0.hist(E0a, label='raw', **kw);\n",
    "ax0.hist(Ea, label='calibrated', **kw);\n",
    "ax0.set_xlabel('$E_{PR}$')\n",
    "\n",
    "ax1 = ax0#plt.twinx()\n",
    "kw['ls'] = '--'\n",
    "ax1.hist(E0i, label='raw', color='C2', **kw);\n",
    "ax1.hist(Ei, label='calibrated', color='C3', **kw);\n",
    "ax0.legend();\n",
    "ax1.set_title('Spot %d, $\\chi_i$ = %.2f' % (ich, chi_ch[ich]));\n",
    "#ax1.set_ylim(0, 200)\n",
    "#ax0.set_title('All Spots');\n",
    "\n",
    "ax1.set_title('Spot %d, $\\chi_i$ = %.2f' % (ich, chi_ch[ich]));\n",
    "plt.rcParams['font.size'] = 14"
   ]
  },
  {
   "cell_type": "code",
   "execution_count": null,
   "metadata": {},
   "outputs": [],
   "source": [
    "(bursts.spot == ich).sum()"
   ]
  },
  {
   "cell_type": "code",
   "execution_count": null,
   "metadata": {},
   "outputs": [],
   "source": [
    "bursts.spot.shape"
   ]
  },
  {
   "cell_type": "code",
   "execution_count": null,
   "metadata": {},
   "outputs": [],
   "source": [
    "bursts0.E.loc[bursts.spot == ich].shape"
   ]
  },
  {
   "cell_type": "code",
   "execution_count": null,
   "metadata": {},
   "outputs": [],
   "source": [
    "E.shape, bursts.E.loc[bursts.spot == ich].shape"
   ]
  },
  {
   "cell_type": "code",
   "execution_count": null,
   "metadata": {},
   "outputs": [],
   "source": [
    "bursts.sample(10).sort_index()"
   ]
  },
  {
   "cell_type": "code",
   "execution_count": null,
   "metadata": {},
   "outputs": [],
   "source": [
    "bursts.t_start.max()"
   ]
  },
  {
   "cell_type": "markdown",
   "metadata": {},
   "source": [
    "# Collapse"
   ]
  },
  {
   "cell_type": "code",
   "execution_count": null,
   "metadata": {},
   "outputs": [],
   "source": [
    "df = d.fuse_bursts(ms=0)"
   ]
  },
  {
   "cell_type": "code",
   "execution_count": null,
   "metadata": {},
   "outputs": [],
   "source": [
    "dc = d.collapse(update_gamma=False)  ## check that chi_ch is set to 1 here"
   ]
  },
  {
   "cell_type": "code",
   "execution_count": null,
   "metadata": {},
   "outputs": [],
   "source": [
    "d.num_bursts.sum()"
   ]
  },
  {
   "cell_type": "code",
   "execution_count": null,
   "metadata": {},
   "outputs": [],
   "source": [
    "Th = (40, 80, 160, 250)\n",
    "Th_naa = (10, 20, 30, 40)\n",
    "fig, AX = plt.subplots(len(Th), len(Th_naa), figsize=(3.5*len(Th_naa), 3.5*len(Th)), sharex=True, sharey=True)\n",
    "for irow, th in enumerate(Th):\n",
    "    for icol, th_naa in enumerate(Th_naa):\n",
    "        ax = AX[irow,icol]\n",
    "        \n",
    "        dcs_th1 = d.select_bursts(select_bursts.naa, th1=th_naa)\n",
    "        dcs_th2 = dcs_th1.select_bursts(select_bursts.size, th1=th, gamma=0.5)\n",
    "        dcs_th = dcs_th2.collapse(update_gamma=False)\n",
    "\n",
    "        #Su = [(nd + na)/(nd + na + naa) for nd, na, naa in zip(dcs_th.nd, dcs_th.na, dcs_th.naa)]\n",
    "        #dcs_th.add(Su=Su)\n",
    "        E = dcs_th.E[0]\n",
    "        E_std = E[(E > 0.2) * (E < 0.95)].std()\n",
    "\n",
    "        dplot(dcs_th, hist_fret, ax=ax)\n",
    "        ax.text(0.05, 0.95, '$th_D$ = %d, $th_A$ = %d, σ = %.3f\\n#B = %d' % (th, th_naa, E_std, dcs_th.num_bursts), va='top', ha='left',\n",
    "                transform=ax.transAxes, fontsize=12)\n",
    "        ax.set_title('')\n",
    "plt.setp(AX[:-1], xlabel='')\n",
    "plt.setp(AX[:, 1:], ylabel='')\n",
    "plt.subplots_adjust(hspace=0, wspace=0)\n",
    "plt.text(0.5, 0.89, 'ACBS', transform=fig.transFigure, fontsize=16)"
   ]
  },
  {
   "cell_type": "code",
   "execution_count": null,
   "metadata": {},
   "outputs": [],
   "source": [
    "d2 = bext.burst_search_and_gate(df, min_rate_cps=30e3)"
   ]
  },
  {
   "cell_type": "code",
   "execution_count": null,
   "metadata": {},
   "outputs": [],
   "source": [
    "Th = (40, 80, 160, 250)\n",
    "fig, AX = plt.subplots(len(Th), 1, figsize=(3.5, 3.5*len(Th)), sharex=True, sharey=True)\n",
    "for irow, th in enumerate(Th):\n",
    "    \n",
    "    ax = AX[irow]\n",
    "\n",
    "    dcs_th2 = d2.select_bursts(select_bursts.size, th1=th, gamma=0.5)\n",
    "    dcs_th = dcs_th2.collapse(update_gamma=False)\n",
    "\n",
    "    #Su = [(nd + na)/(nd + na + naa) for nd, na, naa in zip(dcs_th.nd, dcs_th.na, dcs_th.naa)]\n",
    "    #dcs_th.add(Su=Su)\n",
    "    E = dcs_th.E[0]\n",
    "    E_std = E[(E > 0.2) * (E < 0.95)].std()\n",
    "\n",
    "    dplot(dcs_th, hist_fret, ax=ax)\n",
    "    ax.text(0.05, 0.95, '$th_D$ = %d, $th_A$ = %d, σ = %.3f\\n#B = %d' % (th, th_naa, E_std, dcs_th.num_bursts), va='top', ha='left',\n",
    "            transform=ax.transAxes, fontsize=12)\n",
    "    ax.set_title('')\n",
    "#plt.setp(AX[:-1], xlabel='')\n",
    "#plt.setp(AX[:, 1:], ylabel='')\n",
    "plt.subplots_adjust(hspace=0, wspace=0)\n",
    "plt.text(0.5, 0.89, 'DCBS', transform=fig.transFigure, fontsize=16)"
   ]
  },
  {
   "cell_type": "code",
   "execution_count": null,
   "metadata": {},
   "outputs": [],
   "source": []
  }
 ],
 "metadata": {
  "anaconda-cloud": {},
  "hide_input": false,
  "kernelspec": {
   "display_name": "py36",
   "language": "python",
   "name": "py36"
  },
  "language_info": {
   "codemirror_mode": {
    "name": "ipython",
    "version": 3
   },
   "file_extension": ".py",
   "mimetype": "text/x-python",
   "name": "python",
   "nbconvert_exporter": "python",
   "pygments_lexer": "ipython3",
   "version": "3.6.0"
  },
  "nav_menu": {},
  "toc": {
   "colors": {
    "hover_highlight": "#DAA520",
    "navigate_num": "#000000",
    "navigate_text": "#333333",
    "running_highlight": "#FF0000",
    "selected_highlight": "#FFD700",
    "sidebar_border": "#EEEEEE",
    "wrapper_background": "#FFFFFF"
   },
   "moveMenuLeft": true,
   "nav_menu": {
    "height": "68px",
    "width": "252px"
   },
   "navigate_menu": true,
   "number_sections": false,
   "sideBar": true,
   "threshold": 4,
   "toc_cell": false,
   "toc_position": {
    "height": "676px",
    "left": "0px",
    "right": "915px",
    "top": "106px",
    "width": "232px"
   },
   "toc_section_display": "block",
   "toc_window_display": true,
   "widenNotebook": false
  }
 },
 "nbformat": 4,
 "nbformat_minor": 1
}
