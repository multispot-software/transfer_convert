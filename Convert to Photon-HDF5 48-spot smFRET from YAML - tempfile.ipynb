{
 "cells": [
  {
   "cell_type": "code",
   "execution_count": null,
   "metadata": {
    "collapsed": true
   },
   "outputs": [],
   "source": [
    "# File path relative to basedir\n",
    "dir_ = 'data/'\n",
    "fname = dir_ + '01_10000x.dat'"
   ]
  },
  {
   "cell_type": "markdown",
   "metadata": {},
   "source": [
    "# Static configuration"
   ]
  },
  {
   "cell_type": "code",
   "execution_count": null,
   "metadata": {
    "collapsed": true
   },
   "outputs": [],
   "source": [
    "from pathlib import Path"
   ]
  },
  {
   "cell_type": "code",
   "execution_count": null,
   "metadata": {
    "collapsed": true
   },
   "outputs": [],
   "source": [
    "remote_origin_basedir = '/mnt/Antonio/'    # Remote dir containing the original acquisition data\n",
    "temp_basedir = '/mnt/ramdisk/'             # Local temp dir with very fast access \n",
    "local_archive_basedir = '/mnt/archive/'    # Local dir for archiving data\n",
    "remote_archive_basedir = '/mnt/wAntonio/'  # Remote dir for archiving data"
   ]
  },
  {
   "cell_type": "code",
   "execution_count": null,
   "metadata": {
    "collapsed": true
   },
   "outputs": [],
   "source": [
    "# Identity data used when the metadata does not contain identity info:\n",
    "default_identity = dict(\n",
    "    author='Antonino Ingargiola',\n",
    "    author_affiliation='UCLA',\n",
    "    creator='Antonino Ingargiola',\n",
    "    creator_affiliation='UCLA')"
   ]
  },
  {
   "cell_type": "markdown",
   "metadata": {},
   "source": [
    "# Imports"
   ]
  },
  {
   "cell_type": "code",
   "execution_count": null,
   "metadata": {
    "collapsed": true,
    "scrolled": true
   },
   "outputs": [],
   "source": [
    "from pathlib import Path\n",
    "import time\n",
    "import numpy as np\n",
    "import tables\n",
    "import yaml\n",
    "from tqdm import tqdm_notebook, tnrange  # progress bar\n",
    "\n",
    "import phconvert as phc\n",
    "phc.__version__"
   ]
  },
  {
   "cell_type": "code",
   "execution_count": null,
   "metadata": {
    "collapsed": true,
    "scrolled": true
   },
   "outputs": [],
   "source": [
    "import niconverter as nic\n",
    "nic.__version__"
   ]
  },
  {
   "cell_type": "markdown",
   "metadata": {},
   "source": [
    "# Resolve paths"
   ]
  },
  {
   "cell_type": "code",
   "execution_count": null,
   "metadata": {
    "collapsed": true
   },
   "outputs": [],
   "source": [
    "source_filename = Path(temp_basedir, fname)\n",
    "if not source_filename.is_file():\n",
    "    source_filename = Path(remote_origin_basedir, fname)\n",
    "assert source_filename.is_file()\n",
    "source_filename"
   ]
  },
  {
   "cell_type": "code",
   "execution_count": null,
   "metadata": {
    "collapsed": true
   },
   "outputs": [],
   "source": [
    "out_path = Path(temp_basedir, fname).with_suffix('.hdf5')\n",
    "out_path"
   ]
  },
  {
   "cell_type": "code",
   "execution_count": null,
   "metadata": {
    "collapsed": true
   },
   "outputs": [],
   "source": [
    "out_path = Path(out_path.parent, out_path.stem + '_tf.hdf5')\n",
    "out_path"
   ]
  },
  {
   "cell_type": "code",
   "execution_count": null,
   "metadata": {
    "collapsed": true
   },
   "outputs": [],
   "source": [
    "# Create the output data folder if necessary\n",
    "out_path.parent.mkdir(parents=True, exist_ok=True)"
   ]
  },
  {
   "cell_type": "code",
   "execution_count": null,
   "metadata": {
    "collapsed": true
   },
   "outputs": [],
   "source": [
    "out_path_raw = Path(temp_basedir, fname[:-4] + '_raw_temp.hdf5')\n",
    "out_path_raw"
   ]
  },
  {
   "cell_type": "markdown",
   "metadata": {},
   "source": [
    "# Load metadata"
   ]
  },
  {
   "cell_type": "code",
   "execution_count": null,
   "metadata": {
    "collapsed": true
   },
   "outputs": [],
   "source": [
    "meta_filename = source_filename.with_suffix('.yml')\n",
    "assert meta_filename.is_file()"
   ]
  },
  {
   "cell_type": "code",
   "execution_count": null,
   "metadata": {
    "collapsed": true
   },
   "outputs": [],
   "source": [
    "with open(meta_filename) as f:\n",
    "    metadata = yaml.load(f)\n",
    "metadata"
   ]
  },
  {
   "cell_type": "markdown",
   "metadata": {},
   "source": [
    "# Preprocess timestamps"
   ]
  },
  {
   "cell_type": "code",
   "execution_count": null,
   "metadata": {
    "collapsed": true
   },
   "outputs": [],
   "source": [
    "t_start = time.time()"
   ]
  },
  {
   "cell_type": "code",
   "execution_count": null,
   "metadata": {
    "collapsed": true
   },
   "outputs": [],
   "source": [
    "# 2**16, 2**18, 2**19, 2**20, 2**22\n",
    "# 65536, 262144, 524288, 1048576, 4194304\n",
    "h5file_raw, meta = nic.ni96ch_process(source_filename, close=True, out_path=out_path_raw, chunksize=262144,\n",
    "                                      comp_filter=tables.Filters(complevel=1, complib='blosc'))\n",
    "ts_unit = 1 / meta['clock_frequency']\n",
    "fname, meta"
   ]
  },
  {
   "cell_type": "code",
   "execution_count": null,
   "metadata": {
    "collapsed": true
   },
   "outputs": [],
   "source": [
    "time.time() - t_start"
   ]
  },
  {
   "cell_type": "code",
   "execution_count": null,
   "metadata": {
    "collapsed": true
   },
   "outputs": [],
   "source": [
    "nch = 96\n",
    "h5file_raw = tables.open_file(str(out_path_raw), mode='r')\n",
    "dt, endianess, meta = nic.detectformat(source_filename)\n",
    "ts_unit = 1 / meta['clock_frequency']\n",
    "timestamps_m = [h5file_raw.get_node('/timestamps%d' % ch) for ch in range(nch)]\n",
    "meta['acquisition_duration'] = nic.duration(timestamps_m, ts_unit)\n",
    "fname, meta"
   ]
  },
  {
   "cell_type": "code",
   "execution_count": null,
   "metadata": {
    "collapsed": true
   },
   "outputs": [],
   "source": [
    "h5file = tables.open_file(str(out_path), mode='w')"
   ]
  },
  {
   "cell_type": "code",
   "execution_count": null,
   "metadata": {
    "collapsed": true
   },
   "outputs": [],
   "source": [
    "comp_filter = tables.Filters(complevel=6, complib='zlib')\n",
    "ph_m, A_em, detectors_ids, spots = nic.save_timestamps_detectors_48ch(timestamps_m, h5file, \n",
    "                                                                      comp_filter=comp_filter)"
   ]
  },
  {
   "cell_type": "code",
   "execution_count": null,
   "metadata": {
    "collapsed": true
   },
   "outputs": [],
   "source": [
    "h5file.close()"
   ]
  },
  {
   "cell_type": "code",
   "execution_count": null,
   "metadata": {
    "collapsed": true
   },
   "outputs": [],
   "source": [
    "time.time() - t_start"
   ]
  },
  {
   "cell_type": "code",
   "execution_count": null,
   "metadata": {
    "collapsed": true,
    "scrolled": false
   },
   "outputs": [],
   "source": [
    "h5file = tables.open_file(str(out_path), mode='a')\n",
    "dt, endianess, meta = nic.detectformat(source_filename)\n",
    "ts_unit = 1 / meta['clock_frequency']\n",
    "t2, aem2 = nic.get_photon_data_arr(h5file, spots=np.arange(48))\n",
    "meta['acquisition_duration'] = nic.duration(t2, ts_unit)\n",
    "source_filename.stem, meta"
   ]
  },
  {
   "cell_type": "code",
   "execution_count": null,
   "metadata": {
    "collapsed": true
   },
   "outputs": [],
   "source": [
    "time.time() - t_start"
   ]
  },
  {
   "cell_type": "code",
   "execution_count": null,
   "metadata": {
    "collapsed": true,
    "scrolled": true
   },
   "outputs": [],
   "source": [
    "print('Measurement duration: %.1f s' %  meta['acquisition_duration'])\n",
    "print('Transfer rate: %.2f MB/s' % (meta['num_timestamps'] / meta['acquisition_duration'] * 4 / (1024**2)))"
   ]
  },
  {
   "cell_type": "code",
   "execution_count": null,
   "metadata": {
    "collapsed": true,
    "scrolled": true
   },
   "outputs": [],
   "source": [
    "neg_jumps = []\n",
    "for tx in tqdm_notebook(t2):\n",
    "    d = np.diff(tx[:])\n",
    "    assert (d >= 0).all()\n",
    "    neg_jumps.append(d[d<0])\n",
    "    \n",
    "missed_ov_jumps = [len(j) for j in neg_jumps]\n",
    "for ch, jumps in enumerate(missed_ov_jumps):\n",
    "    if jumps > 0:\n",
    "        print('CH%d: %s' % (ch, jumps))"
   ]
  },
  {
   "cell_type": "code",
   "execution_count": null,
   "metadata": {
    "collapsed": true
   },
   "outputs": [],
   "source": [
    "time.time() - t_start"
   ]
  },
  {
   "cell_type": "markdown",
   "metadata": {
    "collapsed": true
   },
   "source": [
    "# Create Photon-HDF5"
   ]
  },
  {
   "cell_type": "markdown",
   "metadata": {},
   "source": [
    "## Populate metadata"
   ]
  },
  {
   "cell_type": "code",
   "execution_count": null,
   "metadata": {
    "collapsed": true,
    "scrolled": false
   },
   "outputs": [],
   "source": [
    "if 'identity' not in metadata:\n",
    "    metadata['identity'] = default_identity\n",
    "metadata"
   ]
  },
  {
   "cell_type": "code",
   "execution_count": null,
   "metadata": {
    "collapsed": true
   },
   "outputs": [],
   "source": [
    "metadata, meas_type = nic.populate_metadata_smFRET_48spots(metadata, source_filename, h5file=h5file,\n",
    "                                                           acq_duration=meta['acquisition_duration'])\n",
    "metadata"
   ]
  },
  {
   "cell_type": "code",
   "execution_count": null,
   "metadata": {
    "collapsed": true
   },
   "outputs": [],
   "source": [
    "meas_type"
   ]
  },
  {
   "cell_type": "markdown",
   "metadata": {},
   "source": [
    "## Create the Photon-HDF5 file"
   ]
  },
  {
   "cell_type": "code",
   "execution_count": null,
   "metadata": {
    "collapsed": true,
    "scrolled": true
   },
   "outputs": [],
   "source": [
    "str(source_filename)"
   ]
  },
  {
   "cell_type": "code",
   "execution_count": null,
   "metadata": {
    "collapsed": true,
    "scrolled": true
   },
   "outputs": [],
   "source": [
    "h5file.filename"
   ]
  },
  {
   "cell_type": "code",
   "execution_count": null,
   "metadata": {
    "collapsed": true,
    "scrolled": true
   },
   "outputs": [],
   "source": [
    "data = nic.fill_photon_data_tables(metadata.copy(), h5file, ts_unit,\n",
    "                                   measurement_type=meas_type)"
   ]
  },
  {
   "cell_type": "code",
   "execution_count": null,
   "metadata": {
    "collapsed": true,
    "scrolled": true
   },
   "outputs": [],
   "source": [
    "[f for f in data.keys() if not f.startswith('photon')]"
   ]
  },
  {
   "cell_type": "code",
   "execution_count": null,
   "metadata": {
    "collapsed": true
   },
   "outputs": [],
   "source": [
    "%matplotlib inline\n",
    "import matplotlib.pyplot as plt"
   ]
  },
  {
   "cell_type": "code",
   "execution_count": null,
   "metadata": {},
   "outputs": [],
   "source": [
    "phc.plotter.alternation_hist(data, ich=18)\n",
    "plt.grid()"
   ]
  },
  {
   "cell_type": "code",
   "execution_count": null,
   "metadata": {
    "collapsed": true
   },
   "outputs": [],
   "source": [
    "#%%timeit -n1 -r1\n",
    "phc.hdf5.save_photon_hdf5(data, h5file=h5file, overwrite=True, close=False)"
   ]
  },
  {
   "cell_type": "code",
   "execution_count": null,
   "metadata": {
    "collapsed": true
   },
   "outputs": [],
   "source": [
    "time.time() - t_start"
   ]
  }
 ],
 "metadata": {
  "anaconda-cloud": {},
  "hide_input": false,
  "kernelspec": {
   "display_name": "py36",
   "language": "python",
   "name": "py36"
  },
  "language_info": {
   "codemirror_mode": {
    "name": "ipython",
    "version": 3
   },
   "file_extension": ".py",
   "mimetype": "text/x-python",
   "name": "python",
   "nbconvert_exporter": "python",
   "pygments_lexer": "ipython3",
   "version": "3.6.0"
  },
  "nav_menu": {},
  "toc": {
   "navigate_menu": true,
   "number_sections": false,
   "sideBar": true,
   "threshold": 4,
   "toc_cell": false,
   "toc_section_display": "block",
   "toc_window_display": true
  }
 },
 "nbformat": 4,
 "nbformat_minor": 1
}
